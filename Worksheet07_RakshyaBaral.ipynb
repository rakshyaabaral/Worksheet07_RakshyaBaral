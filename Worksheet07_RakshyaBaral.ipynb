{
  "nbformat": 4,
  "nbformat_minor": 0,
  "metadata": {
    "colab": {
      "provenance": []
    },
    "kernelspec": {
      "name": "python3",
      "display_name": "Python 3"
    },
    "language_info": {
      "name": "python"
    }
  },
  "cells": [
    {
      "cell_type": "code",
      "source": [
        "from google.colab import drive\n",
        "drive.mount('/content/drive')"
      ],
      "metadata": {
        "colab": {
          "base_uri": "https://localhost:8080/"
        },
        "id": "V5MFjKfHpcse",
        "outputId": "49655a9e-17db-4b9b-e3e2-be42f0aa4a59"
      },
      "execution_count": 1,
      "outputs": [
        {
          "output_type": "stream",
          "name": "stdout",
          "text": [
            "Mounted at /content/drive\n"
          ]
        }
      ]
    },
    {
      "cell_type": "markdown",
      "source": [
        "Download the Pima Indian Diabetes Dataset:\n",
        "Available from sources like Kaggle.\n",
        "Contains columns such as:\n",
        "Pregnancies, Glucose, BloodPressure, SkinThickness, Insulin, BMI,\n",
        "DiabetesPedigreeFunction, Age, Outcome (whether the patient has\n",
        "diabetes or not).\n",
        "Regression Task:\n",
        "Predict the Blood Pressure of the patients based on other features.\n",
        "Use Linear Regression model from Scikit-learn.\n",
        "Classification Task:\n",
        "Predict whether the patient has diabetes (target column: Outcome).\n",
        "Use Logistic Regression or K-Nearest Neighbors (KNN) model.\n",
        "Once Build Evaluate the Model Appropriately."
      ],
      "metadata": {
        "id": "s_0C-0Lkplvu"
      }
    },
    {
      "cell_type": "code",
      "source": [
        "import pandas as pd\n",
        "import numpy as np\n",
        "from sklearn.model_selection import train_test_split\n",
        "from sklearn.preprocessing import StandardScaler\n",
        "from sklearn.metrics import mean_squared_error, r2_score, accuracy_score, classification_report\n",
        "from sklearn.linear_model import LinearRegression, LogisticRegression\n",
        "from sklearn.neighbors import KNeighborsClassifier\n",
        "\n",
        "# Load the dataset\n",
        "df = pd.read_csv('/content/drive/MyDrive/Concepts and Technologies of AI./diabetes.csv')  # Replace with the correct file path\n",
        "\n",
        "# Check for missing values and basic statistics\n",
        "print(df.info())\n",
        "print(df.describe())\n",
        "\n",
        "# Dynamically check column names to handle mismatches\n",
        "columns_to_replace = ['Glucose', 'BloodPressure', 'SkinThickness', 'Insulin', 'BMI']\n",
        "valid_columns = [col for col in columns_to_replace if col in df.columns]\n",
        "\n",
        "if len(valid_columns) < len(columns_to_replace):\n",
        "    print(f\"Some columns were not found: {set(columns_to_replace) - set(valid_columns)}\")\n",
        "\n",
        "# Replace zeros in valid columns with NaN\n",
        "df[valid_columns] = df[valid_columns].replace(0, np.nan)\n",
        "\n",
        "# Fill missing values with the median\n",
        "df.fillna(df.median(), inplace=True)\n",
        "\n",
        "\n"
      ],
      "metadata": {
        "colab": {
          "base_uri": "https://localhost:8080/"
        },
        "id": "G-GbyDJqplA2",
        "outputId": "288e2a42-9cab-44f7-c898-5223e0fe10f8"
      },
      "execution_count": 10,
      "outputs": [
        {
          "output_type": "stream",
          "name": "stdout",
          "text": [
            "<class 'pandas.core.frame.DataFrame'>\n",
            "RangeIndex: 768 entries, 0 to 767\n",
            "Data columns (total 9 columns):\n",
            " #   Column                    Non-Null Count  Dtype  \n",
            "---  ------                    --------------  -----  \n",
            " 0   Pregnancies               768 non-null    int64  \n",
            " 1   Glucose                   768 non-null    int64  \n",
            " 2   BloodPressure             768 non-null    int64  \n",
            " 3   SkinThickness             768 non-null    int64  \n",
            " 4   Insulin                   768 non-null    int64  \n",
            " 5   BMI                       768 non-null    float64\n",
            " 6   DiabetesPedigreeFunction  768 non-null    float64\n",
            " 7   Age                       768 non-null    int64  \n",
            " 8   Outcome                   768 non-null    int64  \n",
            "dtypes: float64(2), int64(7)\n",
            "memory usage: 54.1 KB\n",
            "None\n",
            "       Pregnancies     Glucose  BloodPressure  SkinThickness     Insulin  \\\n",
            "count   768.000000  768.000000     768.000000     768.000000  768.000000   \n",
            "mean      3.845052  120.894531      69.105469      20.536458   79.799479   \n",
            "std       3.369578   31.972618      19.355807      15.952218  115.244002   \n",
            "min       0.000000    0.000000       0.000000       0.000000    0.000000   \n",
            "25%       1.000000   99.000000      62.000000       0.000000    0.000000   \n",
            "50%       3.000000  117.000000      72.000000      23.000000   30.500000   \n",
            "75%       6.000000  140.250000      80.000000      32.000000  127.250000   \n",
            "max      17.000000  199.000000     122.000000      99.000000  846.000000   \n",
            "\n",
            "              BMI  DiabetesPedigreeFunction         Age     Outcome  \n",
            "count  768.000000                768.000000  768.000000  768.000000  \n",
            "mean    31.992578                  0.471876   33.240885    0.348958  \n",
            "std      7.884160                  0.331329   11.760232    0.476951  \n",
            "min      0.000000                  0.078000   21.000000    0.000000  \n",
            "25%     27.300000                  0.243750   24.000000    0.000000  \n",
            "50%     32.000000                  0.372500   29.000000    0.000000  \n",
            "75%     36.600000                  0.626250   41.000000    1.000000  \n",
            "max     67.100000                  2.420000   81.000000    1.000000  \n"
          ]
        }
      ]
    },
    {
      "cell_type": "markdown",
      "source": [
        "Regression Task: Predicting Blood Pressure"
      ],
      "metadata": {
        "id": "TEuT9V24q3Hz"
      }
    },
    {
      "cell_type": "code",
      "source": [
        "# Define the target column dynamically\n",
        "target_column = 'BloodPressure'\n",
        "\n",
        "# Check if the column exists\n",
        "if target_column in df.columns:\n",
        "    # Define features and target\n",
        "    X_reg = df.drop([target_column], axis=1)\n",
        "    y_reg = df[target_column]\n",
        "\n",
        "    # Train-test split\n",
        "    X_train_reg, X_test_reg, y_train_reg, y_test_reg = train_test_split(X_reg, y_reg, test_size=0.2, random_state=42)\n",
        "\n",
        "    # Standardize features\n",
        "    scaler = StandardScaler()\n",
        "    X_train_reg = scaler.fit_transform(X_train_reg)\n",
        "    X_test_reg = scaler.transform(X_test_reg)\n",
        "\n",
        "    # Linear Regression model\n",
        "    reg_model = LinearRegression()\n",
        "    reg_model.fit(X_train_reg, y_train_reg)\n",
        "\n",
        "    # Predictions and evaluation\n",
        "    y_pred_reg = reg_model.predict(X_test_reg)\n",
        "    print(\"Regression Task Evaluation:\")\n",
        "    print(\"Mean Squared Error:\", mean_squared_error(y_test_reg, y_pred_reg))\n",
        "    print(\"R2 Score:\", r2_score(y_test_reg, y_pred_reg))\n",
        "else:\n",
        "    print(f\"Column '{target_column}' not found in the dataset.\")\n",
        "\n"
      ],
      "metadata": {
        "colab": {
          "base_uri": "https://localhost:8080/"
        },
        "id": "7rNBciIvq65G",
        "outputId": "eef458ad-6a63-4c85-dde0-c6fca3efa3b5"
      },
      "execution_count": 11,
      "outputs": [
        {
          "output_type": "stream",
          "name": "stdout",
          "text": [
            "Regression Task Evaluation:\n",
            "Mean Squared Error: 112.13352966536159\n",
            "R2 Score: 0.2297687968567813\n"
          ]
        }
      ]
    },
    {
      "cell_type": "markdown",
      "source": [
        "Classification Task: Predicting Diabetes Outcome"
      ],
      "metadata": {
        "id": "ERAwG4nBrsQT"
      }
    },
    {
      "cell_type": "code",
      "source": [
        "# Check if the 'Outcome' column exists\n",
        "if 'Outcome' in df.columns:\n",
        "    # Define features and target for classification task\n",
        "    X_clf = df.drop(['Outcome'], axis=1)\n",
        "    y_clf = df['Outcome']\n",
        "\n",
        "    # Train-test split\n",
        "    X_train_clf, X_test_clf, y_train_clf, y_test_clf = train_test_split(X_clf, y_clf, test_size=0.2, random_state=42)\n",
        "\n",
        "    # Standardize features\n",
        "    scaler = StandardScaler()\n",
        "    X_train_clf = scaler.fit_transform(X_train_clf)\n",
        "    X_test_clf = scaler.transform(X_test_clf)\n",
        "\n",
        "    # Logistic Regression\n",
        "    log_reg = LogisticRegression(max_iter=1000)\n",
        "    log_reg.fit(X_train_clf, y_train_clf)\n",
        "    y_pred_log = log_reg.predict(X_test_clf)\n",
        "\n",
        "    # KNN Classifier (choose k=5)\n",
        "    knn_clf = KNeighborsClassifier(n_neighbors=5)\n",
        "    knn_clf.fit(X_train_clf, y_train_clf)\n",
        "    y_pred_knn = knn_clf.predict(X_test_clf)\n",
        "\n",
        "    # Evaluation\n",
        "    print(\"Logistic Regression Evaluation:\")\n",
        "    print(\"Accuracy:\", accuracy_score(y_test_clf, y_pred_log))\n",
        "    print(classification_report(y_test_clf, y_pred_log))\n",
        "\n",
        "    print(\"KNN Evaluation:\")\n",
        "    print(\"Accuracy:\", accuracy_score(y_test_clf, y_pred_knn))\n",
        "    print(classification_report(y_test_clf, y_pred_knn))\n",
        "else:\n",
        "    print(\"Column 'Outcome' not found in the dataset.\")\n"
      ],
      "metadata": {
        "colab": {
          "base_uri": "https://localhost:8080/"
        },
        "id": "3dtKPP7FrwQ_",
        "outputId": "47f9044d-c62b-4012-91fa-c10fab8b1bcc"
      },
      "execution_count": 12,
      "outputs": [
        {
          "output_type": "stream",
          "name": "stdout",
          "text": [
            "Logistic Regression Evaluation:\n",
            "Accuracy: 0.7532467532467533\n",
            "              precision    recall  f1-score   support\n",
            "\n",
            "           0       0.80      0.83      0.81        99\n",
            "           1       0.67      0.62      0.64        55\n",
            "\n",
            "    accuracy                           0.75       154\n",
            "   macro avg       0.73      0.72      0.73       154\n",
            "weighted avg       0.75      0.75      0.75       154\n",
            "\n",
            "KNN Evaluation:\n",
            "Accuracy: 0.7207792207792207\n",
            "              precision    recall  f1-score   support\n",
            "\n",
            "           0       0.80      0.75      0.77        99\n",
            "           1       0.60      0.67      0.63        55\n",
            "\n",
            "    accuracy                           0.72       154\n",
            "   macro avg       0.70      0.71      0.70       154\n",
            "weighted avg       0.73      0.72      0.72       154\n",
            "\n"
          ]
        }
      ]
    }
  ]
}